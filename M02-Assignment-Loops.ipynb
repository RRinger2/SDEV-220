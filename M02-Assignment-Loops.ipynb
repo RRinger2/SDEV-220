{
 "cells": [
  {
   "cell_type": "code",
   "execution_count": 9,
   "id": "a673ad40",
   "metadata": {},
   "outputs": [
    {
     "name": "stdout",
     "output_type": "stream",
     "text": [
      "too high\n",
      "too high\n",
      "just right\n"
     ]
    }
   ],
   "source": [
    "#Name: Riley Ringer\n",
    "# Date: 1/24/2023\n",
    "\n",
    "secret = 3\n",
    "guess = 5\n",
    "guess = int(input('enter your numbered guess between 1 and 10: '))\n",
    "\n",
    "while guess != ():\n",
    "    if guess < secret:\n",
    "        print(\"too low\")\n",
    "    if guess > secret:\n",
    "        print(\"too high\")\n",
    "    if guess == secret:\n",
    "        print(\"just right\")\n",
    "        break\n",
    "    guess = int(input(\"try again? \"))"
   ]
  },
  {
   "cell_type": "code",
   "execution_count": null,
   "id": "a9efb8c8",
   "metadata": {},
   "outputs": [
    {
     "name": "stdout",
     "output_type": "stream",
     "text": [
      "cherry\n"
     ]
    }
   ],
   "source": [
    "small = True\n",
    "green = False\n",
    "if small and green:\n",
    "    print('pea')\n",
    "elif small and not green:\n",
    "    print('cherry')\n",
    "elif not small and green:\n",
    "    print('watermelon')\n",
    "elif not small and not green:\n",
    "    print('pumpkin')"
   ]
  },
  {
   "cell_type": "code",
   "execution_count": null,
   "id": "bd6b9cb1",
   "metadata": {},
   "outputs": [
    {
     "name": "stdout",
     "output_type": "stream",
     "text": [
      "0\n",
      "1\n",
      "2\n",
      "3\n"
     ]
    }
   ],
   "source": [
    "for x in range (0,4):\n",
    "    print(x)"
   ]
  },
  {
   "cell_type": "code",
   "execution_count": 8,
   "id": "e29b578a",
   "metadata": {},
   "outputs": [
    {
     "name": "stdout",
     "output_type": "stream",
     "text": [
      "too low\n",
      "too low\n",
      "too low\n",
      "too low\n",
      "too low\n",
      "too low\n",
      "found it!\n"
     ]
    }
   ],
   "source": [
    "guess_me = 7\n",
    "number = 1\n",
    "while True:\n",
    "    if number < guess_me:\n",
    "        print('too low')\n",
    "    elif number == guess_me:\n",
    "        print('found it!')\n",
    "        break\n",
    "    else:\n",
    "        print('oops')\n",
    "        break\n",
    "    number += 1\n"
   ]
  },
  {
   "cell_type": "code",
   "execution_count": 12,
   "id": "3a0d5584",
   "metadata": {},
   "outputs": [
    {
     "name": "stdout",
     "output_type": "stream",
     "text": [
      "too low!\n",
      "too low!\n",
      "too low!\n",
      "too low!\n",
      "too low!\n",
      "found it!\n"
     ]
    }
   ],
   "source": [
    "guess_me = 5\n",
    "for number in range(11):\n",
    "    if number < guess_me:\n",
    "        print('too low!')\n",
    "    elif number == guess_me:\n",
    "        print('found it!')\n",
    "        break\n",
    "    else:\n",
    "        print('oops!')\n",
    "        break"
   ]
  }
 ],
 "metadata": {
  "kernelspec": {
   "display_name": "Python 3",
   "language": "python",
   "name": "python3"
  },
  "language_info": {
   "codemirror_mode": {
    "name": "ipython",
    "version": 3
   },
   "file_extension": ".py",
   "mimetype": "text/x-python",
   "name": "python",
   "nbconvert_exporter": "python",
   "pygments_lexer": "ipython3",
   "version": "3.10.0"
  },
  "vscode": {
   "interpreter": {
    "hash": "f0f2ae41a760135afdbe3e79036c33e9f5e33e1d97dbcf4a3a9e797873f7444b"
   }
  }
 },
 "nbformat": 4,
 "nbformat_minor": 5
}
